{
 "cells": [
  {
   "cell_type": "markdown",
   "metadata": {},
   "source": [
    "# 🔧 FIXED MovieLens VAE Retraining\n",
    "\n",
    "This notebook retrains the MovieLens Hybrid VAE with critical fixes to improve RMSE from 1.21 → 0.85-0.95\n",
    "\n",
    "## Key Fixes Applied:\n",
    "1. ✅ **MSE loss uses 'mean' instead of 'sum' reduction** (CRITICAL FIX)\n",
    "2. ✅ **KL weight reduced from 1.0 → 0.1**\n",
    "3. ✅ **Learning rate increased from 1e-4 → 5e-4**\n",
    "4. ✅ **Dropout reduced from 0.3 → 0.15**\n",
    "5. ✅ **Better weight initialization and scheduler**"
   ]
  },
  {
   "cell_type": "code",
   "execution_count": null,
   "metadata": {},
   "outputs": [],
   "source": [
    "# Install dependencies\n",
    "!pip install torch torchvision wandb pandas numpy scikit-learn"
   ]
  },
  {
   "cell_type": "code",
   "execution_count": null,
   "metadata": {},
   "outputs": [],
   "source": [
    "# Clone repository\n",
    "!git clone https://github.com/NolanRobbins/MovieLens-RecSys.git\n",
    "%cd MovieLens-RecSys"
   ]
  },
  {
   "cell_type": "code",
   "execution_count": null,
   "metadata": {},
   "outputs": [],
   "source": [
    "# Set up Weights & Biases (optional)\n",
    "import wandb\n",
    "wandb.login()  # Enter your API key when prompted"
   ]
  },
  {
   "cell_type": "code",
   "execution_count": null,
   "metadata": {},
   "outputs": [],
   "source": [
    "# Run the FIXED training script\n",
    "!python src/models/cloud_training_fixed.py \\\n",
    "    --data_path data/processed \\\n",
    "    --save_path data/models/hybrid_vae_fixed.pt \\\n",
    "    --batch_size 1024 \\\n",
    "    --n_epochs 150 \\\n",
    "    --lr 5e-4 \\\n",
    "    --use_wandb"
   ]
  },
  {
   "cell_type": "markdown",
   "metadata": {},
   "source": [
    "## Expected Results:\n",
    "\n",
    "With the fixed training configuration, you should see:\n",
    "\n",
    "- **RMSE**: 1.21 → **0.85-0.95** (40%+ improvement)\n",
    "- **R²**: -0.32 → **+0.15-0.25** (model actually explains variance)\n",
    "- **Training stability**: Much smoother loss curves\n",
    "- **Prediction quality**: Better rating distribution matching\n",
    "\n",
    "## What Was Wrong Before:\n",
    "\n",
    "1. **Loss scaling**: Using `sum` instead of `mean` made gradients 512x too large\n",
    "2. **KL dominance**: Weight of 1.0 made model focus on regularization instead of ratings\n",
    "3. **Learning rate**: Too conservative for this architecture\n",
    "4. **Dropout**: Too aggressive, preventing pattern memorization\n",
    "\n",
    "The new model should be significantly better for your production system!"
   ]
  },
  {
   "cell_type": "code",
   "execution_count": null,
   "metadata": {},
   "outputs": [],
   "source": [
    "# Optional: Quick evaluation of the new model\n",
    "!python src/evaluation/advanced_evaluation.py \\\n",
    "    --model_path data/models/hybrid_vae_fixed.pt \\\n",
    "    --output_path data/processed/fixed_model_evaluation.json"
   ]
  }
 ],
 "metadata": {
  "kernelspec": {
   "display_name": "Python 3",
   "language": "python",
   "name": "python3"
  },
  "language_info": {
   "codemirror_mode": {
    "name": "ipython",
    "version": 3
   },
   "file_extension": ".py",
   "mimetype": "text/x-python",
   "name": "python",
   "nbconvert_exporter": "python",
   "pygments_lexer": "ipython3",
   "version": "3.9.0"
  }
 },
 "nbformat": 4,
 "nbformat_minor": 4
}